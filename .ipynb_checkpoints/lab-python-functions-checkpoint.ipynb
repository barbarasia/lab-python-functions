{
 "cells": [
  {
   "cell_type": "markdown",
   "id": "25d7736c-ba17-4aff-b6bb-66eba20fbf4e",
   "metadata": {},
   "source": [
    "# Lab | Functions"
   ]
  },
  {
   "cell_type": "markdown",
   "id": "0c581062-8967-4d93-b06e-62833222f930",
   "metadata": {
    "tags": []
   },
   "source": [
    "## Exercise: Managing Customer Orders with Functions\n",
    "\n",
    "In the previous exercise, you improved the code for managing customer orders by using loops and flow control. Now, let's take it a step further and refactor the code by introducing functions.\n",
    "\n",
    "Follow the steps below to complete the exercise:\n",
    "\n",
    "1. Define a function named `initialize_inventory` that takes `products` as a parameter. Inside the function, implement the code for initializing the inventory dictionary using a loop and user input.\n",
    "\n",
    "2. Define a function named `get_customer_orders` that takes no parameters. Inside the function, implement the code for prompting the user to enter the product names using a loop. The function should return the `customer_orders` set.\n",
    "\n",
    "3. Define a function named `update_inventory` that takes `customer_orders` and `inventory` as parameters. Inside the function, implement the code for updating the inventory dictionary based on the customer orders.\n",
    "\n",
    "4. Define a function named `calculate_order_statistics` that takes `customer_orders` and `products` as parameters. Inside the function, implement the code for calculating the order statistics (total products ordered, and percentage of unique products ordered). The function should return these values.\n",
    "\n",
    "5. Define a function named `print_order_statistics` that takes `order_statistics` as a parameter. Inside the function, implement the code for printing the order statistics.\n",
    "\n",
    "6. Define a function named `print_updated_inventory` that takes `inventory` as a parameter. Inside the function, implement the code for printing the updated inventory.\n",
    "\n",
    "7. Call the functions in the appropriate sequence to execute the program and manage customer orders.\n",
    "\n",
    "Hints for functions:\n",
    "\n",
    "- Consider the input parameters required for each function and their return values.\n",
    "- Utilize function parameters and return values to transfer data between functions.\n",
    "- Test your functions individually to ensure they work correctly.\n",
    "\n",
    "\n"
   ]
  },
  {
   "cell_type": "code",
   "execution_count": 7,
   "id": "da54c00b-bc94-48ee-b4c2-2426cbadde11",
   "metadata": {},
   "outputs": [
    {
     "name": "stdin",
     "output_type": "stream",
     "text": [
      "Initial inventory of t-shirt is: 7\n",
      "Initial inventory of mug is: 9\n",
      "Initial inventory of hat is: 10\n",
      "Initial inventory of book is: 7\n",
      "Initial inventory of keychain is: 9\n"
     ]
    },
    {
     "name": "stdout",
     "output_type": "stream",
     "text": [
      "{'t-shirt': 7, 'mug': 9, 'hat': 10, 'book': 7, 'keychain': 9}\n"
     ]
    }
   ],
   "source": [
    "products = [\"t-shirt\", \"mug\", \"hat\", \"book\", \"keychain\"]\n",
    "inventory = {}\n",
    "def initialize_inventory(products):\n",
    "    for product in products:\n",
    "        quantity = int(input(\"Initial inventory of \" + product + \" is:\"))\n",
    "        inventory[product] = quantity\n",
    "\n",
    "initialize_inventory(products)\n",
    "print (inventory)"
   ]
  },
  {
   "cell_type": "code",
   "execution_count": 10,
   "id": "53ecc4f0-bd76-44a0-ba2f-139cc46310c7",
   "metadata": {
    "scrolled": true
   },
   "outputs": [
    {
     "name": "stdin",
     "output_type": "stream",
     "text": [
      "Enter a product you want to order:  t-shirt\n",
      "Do you want to add a product? yes\n",
      "Enter a product you want to order:  mug\n",
      "Do you want to add a product? yes\n",
      "Enter a product you want to order:  hat\n",
      "Do you want to add a product? no\n"
     ]
    },
    {
     "name": "stdout",
     "output_type": "stream",
     "text": [
      "{'t-shirt', 'mug', 'hat'}\n"
     ]
    }
   ],
   "source": [
    "customer_orders = set()\n",
    "def get_customer_orders():\n",
    "    while True:\n",
    "        product = input(\"Enter a product you want to order: \")\n",
    "        customer_orders.add(product) \n",
    "        question = input(\"Do you want to add a product?\")\n",
    "        if question.lower() == \"no\":\n",
    "            break\n",
    "\n",
    "get_customer_orders()\n",
    "print(customer_orders)"
   ]
  },
  {
   "cell_type": "code",
   "execution_count": 16,
   "id": "cc269f69-e956-4660-92ee-ba12662f03d9",
   "metadata": {
    "scrolled": true
   },
   "outputs": [
    {
     "name": "stdout",
     "output_type": "stream",
     "text": [
      "{'t-shirt': 5, 'mug': 7, 'hat': 8, 'book': 7, 'keychain': 9}\n"
     ]
    }
   ],
   "source": [
    "def update_inventory(customer_orders, inventory):\n",
    "    for product, quantity in inventory.items():\n",
    "        if product in list(customer_orders):\n",
    "            inventory[product] -= 1\n",
    "update_inventory(customer_orders, inventory)\n",
    "print(inventory)"
   ]
  },
  {
   "cell_type": "code",
   "execution_count": 23,
   "id": "a5a32630-a785-4c0a-a3c8-f205ab4c26be",
   "metadata": {},
   "outputs": [],
   "source": [
    "def calculate_order_statistics(customer_orders, products):\n",
    "    total_ordered = len(customer_orders)\n",
    "    perc_ordered = len(customer_orders)/len(products)*100\n",
    "calculate_order_statistics(customer_orders, products)\n"
   ]
  },
  {
   "cell_type": "code",
   "execution_count": 25,
   "id": "e6ab6224-630e-49ce-8ef4-dac9c7362fcc",
   "metadata": {},
   "outputs": [
    {
     "name": "stdout",
     "output_type": "stream",
     "text": [
      "Order Statistics:\n",
      "Total Products Ordered: 3\n",
      "Percentage of Products Ordered:  60.0 %\n"
     ]
    }
   ],
   "source": [
    "def print_order_statistics(customer_orders, products):\n",
    "    print(\"Order Statistics:\")\n",
    "    print(\"Total Products Ordered:\", len(customer_orders))\n",
    "    print(\"Percentage of Products Ordered: \", len(customer_orders)/len(products)*100, \"%\")\n",
    "\n",
    "print_order_statistics(customer_orders, products)\n"
   ]
  },
  {
   "cell_type": "code",
   "execution_count": 26,
   "id": "bb2a3b8f-aa3f-4b7c-95b2-3ad87e883ded",
   "metadata": {},
   "outputs": [
    {
     "name": "stdout",
     "output_type": "stream",
     "text": [
      "The updated inventory is:  {'t-shirt': 5, 'mug': 7, 'hat': 8, 'book': 7, 'keychain': 9}\n"
     ]
    }
   ],
   "source": [
    "def print_updated_inventory(inventory):\n",
    "    print(\"The updated inventory is: \", inventory)\n",
    "print_updated_inventory(inventory)\n"
   ]
  }
 ],
 "metadata": {
  "kernelspec": {
   "display_name": "Python 3 (ipykernel)",
   "language": "python",
   "name": "python3"
  },
  "language_info": {
   "codemirror_mode": {
    "name": "ipython",
    "version": 3
   },
   "file_extension": ".py",
   "mimetype": "text/x-python",
   "name": "python",
   "nbconvert_exporter": "python",
   "pygments_lexer": "ipython3",
   "version": "3.11.7"
  }
 },
 "nbformat": 4,
 "nbformat_minor": 5
}
